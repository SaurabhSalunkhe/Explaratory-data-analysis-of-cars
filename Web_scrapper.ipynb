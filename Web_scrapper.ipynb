{
 "cells": [
  {
   "cell_type": "code",
   "execution_count": 2,
   "metadata": {
    "collapsed": false
   },
   "outputs": [
    {
     "name": "stderr",
     "output_type": "stream",
     "text": [
      "C:\\Users\\Saurabh Salunkhe\\Anaconda3\\lib\\site-packages\\bs4\\__init__.py:181: UserWarning: No parser was explicitly specified, so I'm using the best available HTML parser for this system (\"lxml\"). This usually isn't a problem, but if you run this code on another system, or in a different virtual environment, it may use a different parser and behave differently.\n",
      "\n",
      "The code that caused this warning is on line 193 of the file C:\\Users\\Saurabh Salunkhe\\Anaconda3\\lib\\runpy.py. To get rid of this warning, change code that looks like this:\n",
      "\n",
      " BeautifulSoup([your markup])\n",
      "\n",
      "to this:\n",
      "\n",
      " BeautifulSoup([your markup], \"lxml\")\n",
      "\n",
      "  markup_type=markup_type))\n"
     ]
    }
   ],
   "source": [
    "from bs4 import BeautifulSoup, SoupStrainer\n",
    "import httplib2\n",
    "import datetime\n",
    "import requests\n",
    "import pandas as pd\n",
    "\n",
    "\n",
    "# url='https://en.wikipedia.org/wiki/Northeastern_University'\n",
    "\n",
    "http = httplib2.Http()\n",
    "\n",
    "all_external_links=[]\n",
    "textual_description=[]\n",
    "valid=[]\n",
    "date_and_time=[]\n",
    "\n",
    "status, response = http.request('https://en.wikipedia.org/wiki/Northeastern_University')\n",
    "soup = BeautifulSoup(response, parse_only=SoupStrainer('a', href=True))\n",
    "\n",
    "for link in soup.find_all('a'):\n",
    "    if 'http' in link['href']:\n",
    "        all_external_links.append(link['href'])\n",
    "        textual_description.append(link.text)\n",
    "        try:\n",
    "            request = requests.get(link['href'])\n",
    "        except Exception:\n",
    "            valid_link=False\n",
    "        if request.status_code == 200:\n",
    "            valid_link=True\n",
    "        else:\n",
    "            valid_link=False \n",
    "        valid.append(valid_link)\n",
    "        now = datetime.datetime.now()\n",
    "        date_and_time.append(now.strftime(\"%Y-%m-%d %H:%M\"))\n",
    "        \n",
    "final_data=pd.DataFrame({'External urls': all_external_links, 'Description': textual_description,'isValid':valid,'Datetime':date_and_time})\n",
    "# saving the results in the excel file named Webscraper\n",
    "final_data.to_excel(\"Webscraper.xlsx\")\n",
    "        \n",
    "        "
   ]
  },
  {
   "cell_type": "code",
   "execution_count": null,
   "metadata": {
    "collapsed": true
   },
   "outputs": [],
   "source": []
  }
 ],
 "metadata": {
  "kernelspec": {
   "display_name": "Python 3",
   "language": "python",
   "name": "python3"
  },
  "language_info": {
   "codemirror_mode": {
    "name": "ipython",
    "version": 3
   },
   "file_extension": ".py",
   "mimetype": "text/x-python",
   "name": "python",
   "nbconvert_exporter": "python",
   "pygments_lexer": "ipython3",
   "version": "3.6.0"
  }
 },
 "nbformat": 4,
 "nbformat_minor": 2
}
